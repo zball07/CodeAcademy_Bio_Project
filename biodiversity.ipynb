{
 "cells": [
  {
   "cell_type": "markdown",
   "metadata": {},
   "source": [
    "## Introduction\n",
    "\n",
    "The goal of this project is to analyze the biodiversity data from the National Park Service, particulary around various species observed in different national park locations. \n",
    "\n",
    "This project will scope, analyze, prepare, plot data, and seek to explain the findings from the analysis. \n",
    "\n",
    "Here are the questions this project intends to answer: \n",
    "\n",
    "    + Which animal type or species is most in danger?\n",
    "    + Are there differences between species and their conservation status?\n",
    "    + What is the distrubition of conservation status for each species?\n",
    "    + Which animals are thriving and what is their distrubition amongst the parks?\n",
    "\n",
    "*Data Sources*\n",
    "\n",
    "Both \"observations.csv\" and \"species_info.csv\" was provided by Codeacademy.com. \n",
    "\n",
    "Note: The data for this project is inspired by real data, but is mainly fictional. "
   ]
  },
  {
   "cell_type": "markdown",
   "metadata": {},
   "source": [
    "## Scope\n",
    "\n",
    "\n",
    "\n"
   ]
  },
  {
   "cell_type": "code",
   "execution_count": 85,
   "metadata": {},
   "outputs": [],
   "source": [
    "import pandas as pd\n",
    "import matplotlib.pyplot as plt\n",
    "import seaborn as sns\n",
    "import numpy as np\n",
    "import glob\n",
    "import os\n",
    "\n",
    "species = pd.read_csv('species_info.csv')\n",
    "observations = pd.read_csv('observations.csv')\n",
    "\n",
    "folder_path = r\"C:\\Users\\Yolo's Finest\\OneDrive\\Desktop\\sqlite-tools-win-x64-3470000\"\n",
    "file_pattern = os.path.join(folder_path, '*.csv')\n",
    "files = glob.glob(file_pattern)\n",
    "specific_files = [\"observations.csv\", \"species_info.csv\"]\n",
    "df_list = [csv for csv in files if os.path.basename(csv) in specific_files]   \n",
    "\n",
    "df = pd.concat((pd.read_csv(f) for f in df_list), ignore_index=True)\n",
    "\n",
    "#Merging both files under scientific_name\n",
    "merged_df = pd.merge(observations, species, on='scientific_name')\n",
    "\n",
    "\n",
    "\n"
   ]
  },
  {
   "cell_type": "markdown",
   "metadata": {},
   "source": [
    "**Import Tools**\n",
    "1. First step was opening the appropriate files for the project. I used os library to assist and using the correct file path. \n",
    "2. Using glob to combine the two csv files into one dataframe we can manipulate later. \n",
    "3. Filtered it to search for only the \"csv\" files needed. \n",
    "4. Pandas for the concat feature and merge filter. Both compacted dataframes will serve a later purpose in exploring. "
   ]
  },
  {
   "cell_type": "markdown",
   "metadata": {},
   "source": [
    "**Column Names**\n",
    "\n",
    "Scientific Name: Name of the species\n",
    "\n",
    "Park Name: Where the species is observed\n",
    "\n",
    "Observations: Frequency of data collected \n",
    "\n",
    "Category: Sub species(Mammal, Amphibian, Fish, Bird, etc.)\n",
    "\n",
    "Common Names: Well known name for species. \n",
    "\n",
    "Conservation Status: Level of endangerment. "
   ]
  },
  {
   "cell_type": "markdown",
   "metadata": {},
   "source": [
    "**Species**"
   ]
  },
  {
   "cell_type": "code",
   "execution_count": 86,
   "metadata": {},
   "outputs": [
    {
     "name": "stdout",
     "output_type": "stream",
     "text": [
      "  category                scientific_name  \\\n",
      "0   Mammal  Clethrionomys gapperi gapperi   \n",
      "1   Mammal                      Bos bison   \n",
      "2   Mammal                     Bos taurus   \n",
      "3   Mammal                     Ovis aries   \n",
      "4   Mammal                 Cervus elaphus   \n",
      "\n",
      "                                        common_names conservation_status  \n",
      "0                           Gapper's Red-Backed Vole                 NaN  \n",
      "1                              American Bison, Bison                 NaN  \n",
      "2  Aurochs, Aurochs, Domestic Cattle (Feral), Dom...                 NaN  \n",
      "3  Domestic Sheep, Mouflon, Red Sheep, Sheep (Feral)                 NaN  \n",
      "4                                      Wapiti Or Elk                 NaN  \n",
      "category\n",
      "Amphibian              80\n",
      "Bird                  521\n",
      "Fish                  127\n",
      "Mammal                214\n",
      "Nonvascular Plant     333\n",
      "Reptile                79\n",
      "Vascular Plant       4470\n",
      "dtype: int64\n"
     ]
    }
   ],
   "source": [
    "print(species.head())\n",
    "print(species.groupby('category').size())"
   ]
  },
  {
   "cell_type": "markdown",
   "metadata": {},
   "source": [
    "**Observations**"
   ]
  },
  {
   "cell_type": "code",
   "execution_count": 87,
   "metadata": {},
   "outputs": [
    {
     "name": "stdout",
     "output_type": "stream",
     "text": [
      "            scientific_name                            park_name  observations\n",
      "0        Vicia benghalensis  Great Smoky Mountains National Park            68\n",
      "1            Neovison vison  Great Smoky Mountains National Park            77\n",
      "2         Prunus subcordata               Yosemite National Park           138\n",
      "3      Abutilon theophrasti                  Bryce National Park            84\n",
      "4  Githopsis specularioides  Great Smoky Mountains National Park            85\n",
      "park_name\n",
      "Bryce National Park                    5824\n",
      "Great Smoky Mountains National Park    5824\n",
      "Yellowstone National Park              5824\n",
      "Yosemite National Park                 5824\n",
      "dtype: int64\n"
     ]
    }
   ],
   "source": [
    "print(observations.head())\n",
    "print(observations.groupby('park_name').size())"
   ]
  },
  {
   "cell_type": "markdown",
   "metadata": {},
   "source": [
    "**Left Merge - Observations w/ Species on Scientific Names**"
   ]
  },
  {
   "cell_type": "code",
   "execution_count": 88,
   "metadata": {},
   "outputs": [
    {
     "name": "stdout",
     "output_type": "stream",
     "text": [
      "            scientific_name                            park_name  \\\n",
      "0        Vicia benghalensis  Great Smoky Mountains National Park   \n",
      "1            Neovison vison  Great Smoky Mountains National Park   \n",
      "2         Prunus subcordata               Yosemite National Park   \n",
      "3      Abutilon theophrasti                  Bryce National Park   \n",
      "4  Githopsis specularioides  Great Smoky Mountains National Park   \n",
      "\n",
      "   observations        category                        common_names  \\\n",
      "0            68  Vascular Plant  Purple Vetch, Reddish Tufted Vetch   \n",
      "1            77          Mammal                       American Mink   \n",
      "2           138  Vascular Plant                        Klamath Plum   \n",
      "3            84  Vascular Plant                          Velvetleaf   \n",
      "4            85  Vascular Plant                      Common Bluecup   \n",
      "\n",
      "  conservation_status  \n",
      "0                 NaN  \n",
      "1                 NaN  \n",
      "2                 NaN  \n",
      "3                 NaN  \n",
      "4                 NaN  \n",
      "scientific_name        object\n",
      "park_name              object\n",
      "observations            int64\n",
      "category               object\n",
      "common_names           object\n",
      "conservation_status    object\n",
      "dtype: object\n",
      "       observations\n",
      "count  25632.000000\n",
      "mean     142.214693\n",
      "std       69.912475\n",
      "min        9.000000\n",
      "25%       86.000000\n",
      "50%      124.000000\n",
      "75%      195.000000\n",
      "max      321.000000\n"
     ]
    }
   ],
   "source": [
    "print(merged_df.head())\n",
    "print(merged_df.dtypes)\n",
    "print(merged_df.describe())"
   ]
  },
  {
   "cell_type": "markdown",
   "metadata": {},
   "source": [
    "*Grab some general stats about our data*\n",
    "How many observations are there? How many unique species are there? How many different categories of animals?\n",
    "There are multiple NaN in conservation status. \n",
    "We can call it \"Safe\". Then change the dtype for the column to category. "
   ]
  },
  {
   "cell_type": "code",
   "execution_count": 89,
   "metadata": {},
   "outputs": [
    {
     "name": "stdout",
     "output_type": "stream",
     "text": [
      "Number of total observations: 23296\n",
      " Number of total unique species by scientific names: 5541\n",
      "['Vascular Plant' 'Mammal' 'Bird' 'Nonvascular Plant' 'Amphibian'\n",
      " 'Reptile' 'Fish']\n",
      "[nan 'Species of Concern' 'Endangered' 'Threatened' 'In Recovery']\n",
      "Number of NaN values in Conservation_Status: 24752\n",
      "conservation_status\n",
      "Species of Concern    732\n",
      "Endangered             80\n",
      "Threatened             44\n",
      "In Recovery            24\n",
      "Name: count, dtype: int64\n"
     ]
    }
   ],
   "source": [
    "#Number of observations\n",
    "print(f'Number of total observations: {len(observations)}')\n",
    "\n",
    "#Number of species\n",
    "print(f' Number of total unique species by scientific names: {species['scientific_name'].nunique()}')\n",
    "\n",
    "#Number of categories\n",
    "print(merged_df['category'].unique())\n",
    "merged_df['conservation_status'] = merged_df['conservation_status'].astype('category')\n",
    "\n",
    "#Left Merge Species to Observations on Scienctific Names\n",
    "sp_merge = pd.merge(species, observations, on='scientific_name')\n",
    "print(sp_merge['conservation_status'].unique())\n",
    "print(f\"Number of NaN values in Conservation_Status: {sp_merge['conservation_status'].isnull().sum()}\")\n",
    "print(sp_merge['conservation_status'].value_counts())"
   ]
  },
  {
   "cell_type": "markdown",
   "metadata": {},
   "source": [
    "Out of 23,296 observations there are 5,541 unique creatures observed. They all range from being a vascular plant, mammal, bird, nonvascular plant, amphibian, reptile, or fish. They can be classified as \"Safe\"(NaN), endangered, threatened, recovery, or a species of concern. Only 880 observations were made with species that fall into the 4 conservation statuses. That's roughly 3.8% of this sample population that are of concern of being extinct or greater. "
   ]
  },
  {
   "cell_type": "code",
   "execution_count": 90,
   "metadata": {},
   "outputs": [
    {
     "name": "stdout",
     "output_type": "stream",
     "text": [
      "      scientific_name                            park_name  observations\n",
      "9753   Grus americana  Great Smoky Mountains National Park            13\n",
      "10848  Grus americana            Yellowstone National Park            57\n",
      "13745  Grus americana                  Bryce National Park            24\n",
      "20342  Grus americana               Yosemite National Park            37\n"
     ]
    }
   ],
   "source": [
    "#Testing what information is pulled for a specific observation.\n",
    "\n",
    "example_observation = observations[observations.scientific_name == 'Grus americana']\n",
    "print(example_observation)"
   ]
  },
  {
   "cell_type": "code",
   "execution_count": 91,
   "metadata": {},
   "outputs": [
    {
     "data": {
      "image/png": "[encoded data removed]",
      "text/plain": [
       "<Figure size 1000x700 with 1 Axes>"
      ]
     },
     "metadata": {},
     "output_type": "display_data"
    }
   ],
   "source": [
    "\n",
    "# Step 1: Group by 'category' and 'conservation_status' and count occurrences\n",
    "filtered_df = df[df['conservation_status'].isin(['Endangered', 'In Recovery', 'Threatened', 'Species of Concern'])]\n",
    "\n",
    "grouped_data = filtered_df.groupby(['category', 'conservation_status']).size().unstack(fill_value=0)\n",
    "# Step 2: Plot the data as a stacked bar chart\n",
    "ax = grouped_data.plot(kind='bar', stacked=True, figsize=(10, 7), color=['red', 'orange', 'yellow', 'blue'])\n",
    "\n",
    "# Step 3: Customize the plot\n",
    "ax.set_title('Number of Observations by Category and Conservation Status')\n",
    "ax.set_xlabel('Animal Category')\n",
    "ax.set_ylabel('Number of Observations')\n",
    "plt.xticks(rotation=45)\n",
    "plt.legend(title='Conservation Status')\n",
    "plt.tight_layout()\n",
    "\n",
    "# Show the plot\n",
    "plt.show()\n"
   ]
  },
  {
   "cell_type": "code",
   "execution_count": 92,
   "metadata": {},
   "outputs": [
    {
     "data": {
      "image/png": "[encoded data removed]",
      "text/plain": [
       "<Figure size 800x600 with 1 Axes>"
      ]
     },
     "metadata": {},
     "output_type": "display_data"
    }
   ],
   "source": [
    "#Chart for conservation statuses counted by their unique species name displayed through their categories. \n",
    "\n",
    "ccs_filter = species[species.conservation_status != \"NaN\"].groupby([\"conservation_status\", \"category\"])['scientific_name'].count().unstack()\n",
    "\n",
    "new_ax = ccs_filter.plot(kind = 'bar', figsize=(8,6), stacked=True)\n",
    "new_ax.set_xlabel(\"Conservation Status\")\n",
    "new_ax.set_ylabel(\"Number of Species\")\n",
    "plt.show()"
   ]
  },
  {
   "cell_type": "markdown",
   "metadata": {},
   "source": [
    "Mammals are most likely to be endangered while birds have the most recovery. What stands out most is birds, mammalsm and vascular plants all have high observations of species of concern. Perhaps they haven't been assigned an official category of threatened or safe.  "
   ]
  },
  {
   "cell_type": "markdown",
   "metadata": {},
   "source": [
    "Counts for Observations per Park"
   ]
  },
  {
   "cell_type": "code",
   "execution_count": 93,
   "metadata": {},
   "outputs": [
    {
     "name": "stdout",
     "output_type": "stream",
     "text": [
      "Empty DataFrame\n",
      "Columns: [scientific_name, park_name, observations, category, common_names, conservation_status]\n",
      "Index: []\n",
      "conservation_status\n",
      "Species of Concern    161\n",
      "Endangered             16\n",
      "Threatened             10\n",
      "In Recovery             4\n",
      "Name: count, dtype: int64\n"
     ]
    },
    {
     "name": "stderr",
     "output_type": "stream",
     "text": [
      "C:\\Users\\Yolo's Finest\\AppData\\Local\\Temp\\ipykernel_44420\\2310022552.py:10: FutureWarning: A value is trying to be set on a copy of a DataFrame or Series through chained assignment using an inplace method.\n",
      "The behavior will change in pandas 3.0. This inplace method will never work because the intermediate object on which we are setting values always behaves as a copy.\n",
      "\n",
      "For example, when doing 'df[col].method(value, inplace=True)', try using 'df.method({col: value}, inplace=True)' or df[col] = df[col].method(value) instead, to perform the operation inplace on the original object.\n",
      "\n",
      "\n",
      "  df['park_name'].fillna('Unknown', inplace=True)\n"
     ]
    }
   ],
   "source": [
    "#Multiple Parks were recorded \"Safe\". Replacing them with \"Unknown\"\n",
    "\n",
    "misplaced_entries = df[df['park_name'] == 'Safe']\n",
    "print(misplaced_entries)\n",
    "\n",
    "df.loc[df['park_name'] == 'Safe', 'conservation_status'] = 'Safe'\n",
    "df.loc[df['park_name'] == 'Safe', 'park_name'] = pd.NA\n",
    "\n",
    "#Fill in with Unknown\n",
    "df['park_name'].fillna('Unknown', inplace=True)\n",
    "print(df['conservation_status'].value_counts())"
   ]
  },
  {
   "cell_type": "markdown",
   "metadata": {},
   "source": [
    "*Check for park name change*"
   ]
  },
  {
   "cell_type": "code",
   "execution_count": 94,
   "metadata": {},
   "outputs": [
    {
     "name": "stdout",
     "output_type": "stream",
     "text": [
      "['Great Smoky Mountains National Park' 'Yosemite National Park'\n",
      " 'Bryce National Park' 'Yellowstone National Park']\n"
     ]
    }
   ],
   "source": [
    "print(observations['park_name'].unique())"
   ]
  },
  {
   "cell_type": "code",
   "execution_count": 95,
   "metadata": {},
   "outputs": [
    {
     "data": {
      "image/png": "[encoded data removed]",
      "text/plain": [
       "<Figure size 1400x800 with 1 Axes>"
      ]
     },
     "metadata": {},
     "output_type": "display_data"
    }
   ],
   "source": [
    "#Filter for Animal Distribution (Move to further out cell)\n",
    "animal_distribution = sp_merge.groupby(['park_name', 'category']).size().unstack(fill_value=0)\n",
    "\n",
    "# Step 2: Plot the data as a grouped bar chart\n",
    "ax = animal_distribution.plot(kind='bar', figsize=(14, 8), colormap='tab10', width=0.8)\n",
    "\n",
    "# Step 3: Customize the plot\n",
    "ax.set_title('Animal Type Distribution in Each Park')\n",
    "ax.set_xlabel('National Park')\n",
    "ax.set_ylabel('Number of Observations')\n",
    "plt.xticks(rotation=45)\n",
    "plt.legend(title='Animal Category', bbox_to_anchor=(1.05, 1), loc='upper left')\n",
    "plt.tight_layout()\n",
    "\n",
    "# Show the plot\n",
    "plt.show()\n"
   ]
  },
  {
   "cell_type": "markdown",
   "metadata": {},
   "source": [
    "It seems each National Park has the exact counts for each animal type. They do have the same number of observations. Is it truly possible to have the same animal sightings at 4 different national parks all in spready out regions?"
   ]
  },
  {
   "cell_type": "markdown",
   "metadata": {},
   "source": [
    "**In Conservation**\n",
    "\n",
    "Are there differences between species and their conservation statuses? Let's explore. "
   ]
  },
  {
   "cell_type": "code",
   "execution_count": 132,
   "metadata": {},
   "outputs": [
    {
     "name": "stdout",
     "output_type": "stream",
     "text": [
      "            category  total  not_safe  safe\n",
      "0          Amphibian     79        72     7\n",
      "1               Bird    488       413    75\n",
      "2               Fish    125       115    11\n",
      "3             Mammal    176       146    30\n",
      "4  Nonvascular Plant    333       328     5\n",
      "5            Reptile     78        73     5\n",
      "6     Vascular Plant   4262      4216    46\n"
     ]
    }
   ],
   "source": [
    "species['is_safe'] = species['conservation_status'] != 'No Intervention'\n",
    "species['not_safe'] = species['conservation_status'].isin(['Species of Concern', 'Endangered', 'Threatened', 'In Recovery'])\n",
    "\n",
    "# Group by 'category' and both 'is_safe' and 'not_safe' columns to get counts\n",
    "category_counts_safe = species.groupby(['category', 'is_safe']).scientific_name.nunique().reset_index()\n",
    "category_counts_not_safe = species.groupby(['category', 'not_safe']).scientific_name.nunique().reset_index()\n",
    "\n",
    "# Pivot tables to separate 'True' and 'False' for 'is_safe'\n",
    "category_counts_safe_pivot = species.groupby(['category', 'is_safe'])\\\n",
    "                                    .scientific_name.nunique()\\\n",
    "                                    .reset_index()\\\n",
    "                                    .pivot_table(columns='is_safe', \n",
    "                                                 index='category', \n",
    "                                                 values='scientific_name', \n",
    "                                                 aggfunc='sum')\\\n",
    "                                    .fillna(0)\\\n",
    "                                    .reset_index()\n",
    "\n",
    "# Pivot tables to separate 'True' and 'False' for 'not_safe'\n",
    "category_counts_not_safe_pivot = species.groupby(['category', 'not_safe'])\\\n",
    "                                        .scientific_name.nunique()\\\n",
    "                                        .reset_index()\\\n",
    "                                        .pivot_table(columns='not_safe', \n",
    "                                                     index='category', \n",
    "                                                     values='scientific_name', \n",
    "                                                     aggfunc='sum')\\\n",
    "                                        .fillna(0)\\\n",
    "                                        .reset_index()\n",
    "\n",
    "# Determine the columns present in the pivoted DataFrames\n",
    "safe_columns = ['category', 'total']\n",
    "not_safe_columns = ['category', 'not_safe', 'safe']\n",
    "\n",
    "# Rename the columns accordingly\n",
    "category_counts_safe_pivot.columns = safe_columns\n",
    "category_counts_not_safe_pivot.columns = not_safe_columns\n",
    "\n",
    "# Merge the two pivot tables on 'category'\n",
    "final_category_counts = pd.merge(category_counts_safe_pivot, \n",
    "                                 category_counts_not_safe_pivot, \n",
    "                                 on='category', \n",
    "                                 how='outer').fillna(0)\n",
    "\n",
    "# Print the final table\n",
    "print(final_category_counts)\n",
    "\n"
   ]
  },
  {
   "cell_type": "markdown",
   "metadata": {},
   "source": [
    "Here we can see why the birds have the highest recovery stats in this data sample. Vascular plants are high as it is to be assumed they were seen in large quantities when compared to the other animals. Next in line was birds that are under watch were high in the 'not_safe' category. "
   ]
  },
  {
   "cell_type": "markdown",
   "metadata": {},
   "source": [
    "# Statistical Significance\n",
    "\n",
    "This section will run a couple chi-squared tests to see if different species have statistically significant differences in conservation status rates. A contingency table will need to be created. Two test will be ran for the standard p-value of 0.05 for statistical significance. One test for vascular plants vs reptiles and birds vs nonvascular plants. "
   ]
  },
  {
   "cell_type": "code",
   "execution_count": 134,
   "metadata": {},
   "outputs": [
    {
     "name": "stdout",
     "output_type": "stream",
     "text": [
      "Chi2ContingencyResult(statistic=np.float64(14.435371140033908), pvalue=np.float64(0.00014505215494675828), dof=1, expected_freq=array([[5.00834101e+01, 4.21191659e+03],\n",
      "       [9.16589862e-01, 7.70834101e+01]]))\n",
      "Chi2ContingencyResult(statistic=np.float64(41.717457869992714), pvalue=np.float64(1.0546306904975004e-10), dof=1, expected_freq=array([[ 47.55176614, 440.44823386],\n",
      "       [ 32.44823386, 300.55176614]]))\n",
      "Chi2ContingencyResult(statistic=np.float64(0.1617014831654557), pvalue=np.float64(0.6875948096661336), dof=1, expected_freq=array([[ 27.8313253, 148.1686747],\n",
      "       [ 77.1686747, 410.8313253]]))\n"
     ]
    }
   ],
   "source": [
    "from scipy.stats import chi2_contingency\n",
    "\n",
    "contingency1 = [[46,4216], [5, 73]]\n",
    "contingency2 = [[75, 413], [5, 328]]\n",
    "\n",
    "\n",
    "print(chi2_contingency(contingency1))\n",
    "print(chi2_contingency(contingency2))\n"
   ]
  },
  {
   "cell_type": "markdown",
   "metadata": {},
   "source": [
    "*Interpretation*\n",
    "\n",
    "Both test shown significant differences in both animal comparisons. Reptiles may rely on certain vascular plants as food sources. If more food is becoming extinct, so will the associated reptile that feeds on it. In the second test for birds over nonvascular plants applies the same logic. They are heavily reliant of each other. "
   ]
  },
  {
   "cell_type": "markdown",
   "metadata": {},
   "source": [
    "**Amphibian's deeper look**\n",
    "\n",
    "Amphabians was the lowest observed creature type across all 4 parks. Lets find out the most sighted one, from which park, and gauge how well they are doing in conservation."
   ]
  },
  {
   "cell_type": "code",
   "execution_count": 137,
   "metadata": {},
   "outputs": [
    {
     "data": {
      "text/plain": [
       "[['Eastern', 'American', 'Toad'],\n",
       " ['Fowlers', 'Toad', 'Woodhouses', 'Toad'],\n",
       " ['Northern', 'Cricket', 'Frog'],\n",
       " ['Copes', 'Gray', 'Treefrog'],\n",
       " ['Gray', 'Treefrog'],\n",
       " ['Mountain', 'Chorus', 'Frog']]"
      ]
     },
     "execution_count": 137,
     "metadata": {},
     "output_type": "execute_result"
    }
   ],
   "source": [
    "from itertools import chain\n",
    "import string\n",
    "\n",
    "# Function to remove punctuation marks from text\n",
    "def remove_marks(text):\n",
    "    for marks in string.punctuation:\n",
    "        text = text.replace(marks, '')  # Remove each punctuation mark\n",
    "    return text\n",
    "\n",
    "# Apply the function to remove punctuation in the 'common_names' column for 'Amphibian' category\n",
    "common_Names = species[species.category == 'Amphibian'].common_names.apply(remove_marks).str.split().tolist()\n",
    "\n",
    "# Display the first 6 cleaned common names\n",
    "common_Names[:6]\n"
   ]
  },
  {
   "cell_type": "markdown",
   "metadata": {},
   "source": [
    "Clean up the list to even more common names to further breakdown. "
   ]
  },
  {
   "cell_type": "code",
   "execution_count": 139,
   "metadata": {},
   "outputs": [
    {
     "data": {
      "text/plain": [
       "[['Eastern', 'American', 'Toad'],\n",
       " ['Fowlers', 'Toad', 'Woodhouses'],\n",
       " ['Northern', 'Cricket', 'Frog'],\n",
       " ['Copes', 'Gray', 'Treefrog'],\n",
       " ['Gray', 'Treefrog'],\n",
       " ['Mountain', 'Chorus', 'Frog']]"
      ]
     },
     "execution_count": 139,
     "metadata": {},
     "output_type": "execute_result"
    }
   ],
   "source": [
    "cleanSet = []\n",
    "\n",
    "for item in common_Names:\n",
    "    item = list(dict.fromkeys(item))\n",
    "    cleanSet.append(item)\n",
    "\n",
    "#Display Clean set\n",
    "cleanSet[:6]"
   ]
  },
  {
   "cell_type": "code",
   "execution_count": 140,
   "metadata": {},
   "outputs": [
    {
     "data": {
      "text/plain": [
       "['Eastern', 'American', 'Toad', 'Fowlers', 'Toad', 'Woodhouses']"
      ]
     },
     "execution_count": 140,
     "metadata": {},
     "output_type": "execute_result"
    }
   ],
   "source": [
    "res = list(chain.from_iterable(i if isinstance(i, list) else [i] for i in cleanSet))\n",
    "res[:6]"
   ]
  },
  {
   "cell_type": "code",
   "execution_count": 142,
   "metadata": {},
   "outputs": [
    {
     "data": {
      "text/html": [
       "<div>\n",
       "<style scoped>\n",
       "    .dataframe tbody tr th:only-of-type {\n",
       "        vertical-align: middle;\n",
       "    }\n",
       "\n",
       "    .dataframe tbody tr th {\n",
       "        vertical-align: top;\n",
       "    }\n",
       "\n",
       "    .dataframe thead th {\n",
       "        text-align: right;\n",
       "    }\n",
       "</style>\n",
       "<table border=\"1\" class=\"dataframe\">\n",
       "  <thead>\n",
       "    <tr style=\"text-align: right;\">\n",
       "      <th></th>\n",
       "      <th>Word</th>\n",
       "      <th>Count</th>\n",
       "    </tr>\n",
       "  </thead>\n",
       "  <tbody>\n",
       "    <tr>\n",
       "      <th>76</th>\n",
       "      <td>Salamander</td>\n",
       "      <td>41</td>\n",
       "    </tr>\n",
       "    <tr>\n",
       "      <th>31</th>\n",
       "      <td>Frog</td>\n",
       "      <td>14</td>\n",
       "    </tr>\n",
       "    <tr>\n",
       "      <th>44</th>\n",
       "      <td>Northern</td>\n",
       "      <td>8</td>\n",
       "    </tr>\n",
       "    <tr>\n",
       "      <th>78</th>\n",
       "      <td>Toad</td>\n",
       "      <td>7</td>\n",
       "    </tr>\n",
       "    <tr>\n",
       "      <th>91</th>\n",
       "      <td>Eastern</td>\n",
       "      <td>7</td>\n",
       "    </tr>\n",
       "    <tr>\n",
       "      <th>34</th>\n",
       "      <td>Southern</td>\n",
       "      <td>6</td>\n",
       "    </tr>\n",
       "    <tr>\n",
       "      <th>17</th>\n",
       "      <td>Chorus</td>\n",
       "      <td>5</td>\n",
       "    </tr>\n",
       "    <tr>\n",
       "      <th>10</th>\n",
       "      <td>Red</td>\n",
       "      <td>4</td>\n",
       "    </tr>\n",
       "    <tr>\n",
       "      <th>35</th>\n",
       "      <td>Mud</td>\n",
       "      <td>4</td>\n",
       "    </tr>\n",
       "    <tr>\n",
       "      <th>40</th>\n",
       "      <td>American</td>\n",
       "      <td>3</td>\n",
       "    </tr>\n",
       "  </tbody>\n",
       "</table>\n",
       "</div>"
      ],
      "text/plain": [
       "          Word  Count\n",
       "76  Salamander     41\n",
       "31        Frog     14\n",
       "44    Northern      8\n",
       "78        Toad      7\n",
       "91     Eastern      7\n",
       "34    Southern      6\n",
       "17      Chorus      5\n",
       "10         Red      4\n",
       "35         Mud      4\n",
       "40    American      3"
      ]
     },
     "execution_count": 142,
     "metadata": {},
     "output_type": "execute_result"
    }
   ],
   "source": [
    "name_counted = []\n",
    "\n",
    "for i in res:\n",
    "    x = res.count(i)\n",
    "    name_counted.append((i,x))\n",
    "\n",
    "pd.DataFrame(set(name_counted), columns=['Word', 'Count']).sort_values(\"Count\", ascending=False).head(10)"
   ]
  },
  {
   "cell_type": "markdown",
   "metadata": {},
   "source": [
    "Now go back to the species data and filter out the Salamanders. "
   ]
  },
  {
   "cell_type": "code",
   "execution_count": 143,
   "metadata": {},
   "outputs": [
    {
     "data": {
      "text/html": [
       "<div>\n",
       "<style scoped>\n",
       "    .dataframe tbody tr th:only-of-type {\n",
       "        vertical-align: middle;\n",
       "    }\n",
       "\n",
       "    .dataframe tbody tr th {\n",
       "        vertical-align: top;\n",
       "    }\n",
       "\n",
       "    .dataframe thead th {\n",
       "        text-align: right;\n",
       "    }\n",
       "</style>\n",
       "<table border=\"1\" class=\"dataframe\">\n",
       "  <thead>\n",
       "    <tr style=\"text-align: right;\">\n",
       "      <th></th>\n",
       "      <th>category</th>\n",
       "      <th>scientific_name</th>\n",
       "      <th>common_names</th>\n",
       "      <th>conservation_status</th>\n",
       "      <th>is_safe</th>\n",
       "      <th>not_safe</th>\n",
       "      <th>is_salamander</th>\n",
       "    </tr>\n",
       "  </thead>\n",
       "  <tbody>\n",
       "    <tr>\n",
       "      <th>0</th>\n",
       "      <td>Mammal</td>\n",
       "      <td>Clethrionomys gapperi gapperi</td>\n",
       "      <td>Gapper's Red-Backed Vole</td>\n",
       "      <td>NaN</td>\n",
       "      <td>True</td>\n",
       "      <td>False</td>\n",
       "      <td>False</td>\n",
       "    </tr>\n",
       "    <tr>\n",
       "      <th>1</th>\n",
       "      <td>Mammal</td>\n",
       "      <td>Bos bison</td>\n",
       "      <td>American Bison, Bison</td>\n",
       "      <td>NaN</td>\n",
       "      <td>True</td>\n",
       "      <td>False</td>\n",
       "      <td>False</td>\n",
       "    </tr>\n",
       "    <tr>\n",
       "      <th>2</th>\n",
       "      <td>Mammal</td>\n",
       "      <td>Bos taurus</td>\n",
       "      <td>Aurochs, Aurochs, Domestic Cattle (Feral), Dom...</td>\n",
       "      <td>NaN</td>\n",
       "      <td>True</td>\n",
       "      <td>False</td>\n",
       "      <td>False</td>\n",
       "    </tr>\n",
       "    <tr>\n",
       "      <th>3</th>\n",
       "      <td>Mammal</td>\n",
       "      <td>Ovis aries</td>\n",
       "      <td>Domestic Sheep, Mouflon, Red Sheep, Sheep (Feral)</td>\n",
       "      <td>NaN</td>\n",
       "      <td>True</td>\n",
       "      <td>False</td>\n",
       "      <td>False</td>\n",
       "    </tr>\n",
       "    <tr>\n",
       "      <th>4</th>\n",
       "      <td>Mammal</td>\n",
       "      <td>Cervus elaphus</td>\n",
       "      <td>Wapiti Or Elk</td>\n",
       "      <td>NaN</td>\n",
       "      <td>True</td>\n",
       "      <td>False</td>\n",
       "      <td>False</td>\n",
       "    </tr>\n",
       "    <tr>\n",
       "      <th>5</th>\n",
       "      <td>Mammal</td>\n",
       "      <td>Odocoileus virginianus</td>\n",
       "      <td>White-Tailed Deer</td>\n",
       "      <td>NaN</td>\n",
       "      <td>True</td>\n",
       "      <td>False</td>\n",
       "      <td>False</td>\n",
       "    </tr>\n",
       "    <tr>\n",
       "      <th>6</th>\n",
       "      <td>Mammal</td>\n",
       "      <td>Sus scrofa</td>\n",
       "      <td>Feral Hog, Wild Pig</td>\n",
       "      <td>NaN</td>\n",
       "      <td>True</td>\n",
       "      <td>False</td>\n",
       "      <td>False</td>\n",
       "    </tr>\n",
       "    <tr>\n",
       "      <th>7</th>\n",
       "      <td>Mammal</td>\n",
       "      <td>Canis latrans</td>\n",
       "      <td>Coyote</td>\n",
       "      <td>Species of Concern</td>\n",
       "      <td>True</td>\n",
       "      <td>True</td>\n",
       "      <td>False</td>\n",
       "    </tr>\n",
       "    <tr>\n",
       "      <th>8</th>\n",
       "      <td>Mammal</td>\n",
       "      <td>Canis lupus</td>\n",
       "      <td>Gray Wolf</td>\n",
       "      <td>Endangered</td>\n",
       "      <td>True</td>\n",
       "      <td>True</td>\n",
       "      <td>False</td>\n",
       "    </tr>\n",
       "    <tr>\n",
       "      <th>9</th>\n",
       "      <td>Mammal</td>\n",
       "      <td>Canis rufus</td>\n",
       "      <td>Red Wolf</td>\n",
       "      <td>Endangered</td>\n",
       "      <td>True</td>\n",
       "      <td>True</td>\n",
       "      <td>False</td>\n",
       "    </tr>\n",
       "  </tbody>\n",
       "</table>\n",
       "</div>"
      ],
      "text/plain": [
       "  category                scientific_name  \\\n",
       "0   Mammal  Clethrionomys gapperi gapperi   \n",
       "1   Mammal                      Bos bison   \n",
       "2   Mammal                     Bos taurus   \n",
       "3   Mammal                     Ovis aries   \n",
       "4   Mammal                 Cervus elaphus   \n",
       "5   Mammal         Odocoileus virginianus   \n",
       "6   Mammal                     Sus scrofa   \n",
       "7   Mammal                  Canis latrans   \n",
       "8   Mammal                    Canis lupus   \n",
       "9   Mammal                    Canis rufus   \n",
       "\n",
       "                                        common_names conservation_status  \\\n",
       "0                           Gapper's Red-Backed Vole                 NaN   \n",
       "1                              American Bison, Bison                 NaN   \n",
       "2  Aurochs, Aurochs, Domestic Cattle (Feral), Dom...                 NaN   \n",
       "3  Domestic Sheep, Mouflon, Red Sheep, Sheep (Feral)                 NaN   \n",
       "4                                      Wapiti Or Elk                 NaN   \n",
       "5                                  White-Tailed Deer                 NaN   \n",
       "6                                Feral Hog, Wild Pig                 NaN   \n",
       "7                                             Coyote  Species of Concern   \n",
       "8                                          Gray Wolf          Endangered   \n",
       "9                                           Red Wolf          Endangered   \n",
       "\n",
       "   is_safe  not_safe  is_salamander  \n",
       "0     True     False          False  \n",
       "1     True     False          False  \n",
       "2     True     False          False  \n",
       "3     True     False          False  \n",
       "4     True     False          False  \n",
       "5     True     False          False  \n",
       "6     True     False          False  \n",
       "7     True      True          False  \n",
       "8     True      True          False  \n",
       "9     True      True          False  "
      ]
     },
     "execution_count": 143,
     "metadata": {},
     "output_type": "execute_result"
    }
   ],
   "source": [
    "species['is_salamander'] = species.common_names.str.contains(r\"\\bSalamander\\b\", regex=True)\n",
    "\n",
    "species.head(10)"
   ]
  },
  {
   "cell_type": "code",
   "execution_count": 144,
   "metadata": {},
   "outputs": [
    {
     "data": {
      "text/html": [
       "<div>\n",
       "<style scoped>\n",
       "    .dataframe tbody tr th:only-of-type {\n",
       "        vertical-align: middle;\n",
       "    }\n",
       "\n",
       "    .dataframe tbody tr th {\n",
       "        vertical-align: top;\n",
       "    }\n",
       "\n",
       "    .dataframe thead th {\n",
       "        text-align: right;\n",
       "    }\n",
       "</style>\n",
       "<table border=\"1\" class=\"dataframe\">\n",
       "  <thead>\n",
       "    <tr style=\"text-align: right;\">\n",
       "      <th></th>\n",
       "      <th>category</th>\n",
       "      <th>scientific_name</th>\n",
       "      <th>common_names</th>\n",
       "      <th>conservation_status</th>\n",
       "      <th>is_safe</th>\n",
       "      <th>not_safe</th>\n",
       "      <th>is_salamander</th>\n",
       "    </tr>\n",
       "  </thead>\n",
       "  <tbody>\n",
       "    <tr>\n",
       "      <th>428</th>\n",
       "      <td>Amphibian</td>\n",
       "      <td>Ambystoma maculatum</td>\n",
       "      <td>Spotted Salamander</td>\n",
       "      <td>NaN</td>\n",
       "      <td>True</td>\n",
       "      <td>False</td>\n",
       "      <td>True</td>\n",
       "    </tr>\n",
       "    <tr>\n",
       "      <th>429</th>\n",
       "      <td>Amphibian</td>\n",
       "      <td>Ambystoma opacum</td>\n",
       "      <td>Marbled Salamander</td>\n",
       "      <td>NaN</td>\n",
       "      <td>True</td>\n",
       "      <td>False</td>\n",
       "      <td>True</td>\n",
       "    </tr>\n",
       "    <tr>\n",
       "      <th>430</th>\n",
       "      <td>Amphibian</td>\n",
       "      <td>Ambystoma talpoideum</td>\n",
       "      <td>Mole Salamander</td>\n",
       "      <td>NaN</td>\n",
       "      <td>True</td>\n",
       "      <td>False</td>\n",
       "      <td>True</td>\n",
       "    </tr>\n",
       "    <tr>\n",
       "      <th>432</th>\n",
       "      <td>Amphibian</td>\n",
       "      <td>Desmognathus conanti</td>\n",
       "      <td>Spotted Dusky Salamander</td>\n",
       "      <td>NaN</td>\n",
       "      <td>True</td>\n",
       "      <td>False</td>\n",
       "      <td>True</td>\n",
       "    </tr>\n",
       "    <tr>\n",
       "      <th>433</th>\n",
       "      <td>Amphibian</td>\n",
       "      <td>Desmognathus imitator</td>\n",
       "      <td>Imitator Salamander</td>\n",
       "      <td>NaN</td>\n",
       "      <td>True</td>\n",
       "      <td>False</td>\n",
       "      <td>True</td>\n",
       "    </tr>\n",
       "    <tr>\n",
       "      <th>434</th>\n",
       "      <td>Amphibian</td>\n",
       "      <td>Desmognathus marmoratus</td>\n",
       "      <td>Shovel-Nosed Salamander</td>\n",
       "      <td>NaN</td>\n",
       "      <td>True</td>\n",
       "      <td>False</td>\n",
       "      <td>True</td>\n",
       "    </tr>\n",
       "    <tr>\n",
       "      <th>435</th>\n",
       "      <td>Amphibian</td>\n",
       "      <td>Desmognathus monticola</td>\n",
       "      <td>Seal Salamander</td>\n",
       "      <td>NaN</td>\n",
       "      <td>True</td>\n",
       "      <td>False</td>\n",
       "      <td>True</td>\n",
       "    </tr>\n",
       "    <tr>\n",
       "      <th>436</th>\n",
       "      <td>Amphibian</td>\n",
       "      <td>Desmognathus ocoee</td>\n",
       "      <td>Ocoee Salamander</td>\n",
       "      <td>NaN</td>\n",
       "      <td>True</td>\n",
       "      <td>False</td>\n",
       "      <td>True</td>\n",
       "    </tr>\n",
       "    <tr>\n",
       "      <th>437</th>\n",
       "      <td>Amphibian</td>\n",
       "      <td>Desmognathus quadramaculatus</td>\n",
       "      <td>Black-Bellied Salamander</td>\n",
       "      <td>NaN</td>\n",
       "      <td>True</td>\n",
       "      <td>False</td>\n",
       "      <td>True</td>\n",
       "    </tr>\n",
       "    <tr>\n",
       "      <th>438</th>\n",
       "      <td>Amphibian</td>\n",
       "      <td>Desmognathus santeetlah</td>\n",
       "      <td>Santeetlah Dusky Salamander, Santleetlah Dusky...</td>\n",
       "      <td>NaN</td>\n",
       "      <td>True</td>\n",
       "      <td>False</td>\n",
       "      <td>True</td>\n",
       "    </tr>\n",
       "  </tbody>\n",
       "</table>\n",
       "</div>"
      ],
      "text/plain": [
       "      category               scientific_name  \\\n",
       "428  Amphibian           Ambystoma maculatum   \n",
       "429  Amphibian              Ambystoma opacum   \n",
       "430  Amphibian          Ambystoma talpoideum   \n",
       "432  Amphibian          Desmognathus conanti   \n",
       "433  Amphibian         Desmognathus imitator   \n",
       "434  Amphibian       Desmognathus marmoratus   \n",
       "435  Amphibian        Desmognathus monticola   \n",
       "436  Amphibian            Desmognathus ocoee   \n",
       "437  Amphibian  Desmognathus quadramaculatus   \n",
       "438  Amphibian       Desmognathus santeetlah   \n",
       "\n",
       "                                          common_names conservation_status  \\\n",
       "428                                 Spotted Salamander                 NaN   \n",
       "429                                 Marbled Salamander                 NaN   \n",
       "430                                    Mole Salamander                 NaN   \n",
       "432                           Spotted Dusky Salamander                 NaN   \n",
       "433                                Imitator Salamander                 NaN   \n",
       "434                            Shovel-Nosed Salamander                 NaN   \n",
       "435                                    Seal Salamander                 NaN   \n",
       "436                                   Ocoee Salamander                 NaN   \n",
       "437                           Black-Bellied Salamander                 NaN   \n",
       "438  Santeetlah Dusky Salamander, Santleetlah Dusky...                 NaN   \n",
       "\n",
       "     is_safe  not_safe  is_salamander  \n",
       "428     True     False           True  \n",
       "429     True     False           True  \n",
       "430     True     False           True  \n",
       "432     True     False           True  \n",
       "433     True     False           True  \n",
       "434     True     False           True  \n",
       "435     True     False           True  \n",
       "436     True     False           True  \n",
       "437     True     False           True  \n",
       "438     True     False           True  "
      ]
     },
     "execution_count": 144,
     "metadata": {},
     "output_type": "execute_result"
    }
   ],
   "source": [
    "species[species.is_salamander].head(10)"
   ]
  },
  {
   "cell_type": "code",
   "execution_count": 145,
   "metadata": {},
   "outputs": [
    {
     "data": {
      "text/html": [
       "<div>\n",
       "<style scoped>\n",
       "    .dataframe tbody tr th:only-of-type {\n",
       "        vertical-align: middle;\n",
       "    }\n",
       "\n",
       "    .dataframe tbody tr th {\n",
       "        vertical-align: top;\n",
       "    }\n",
       "\n",
       "    .dataframe thead th {\n",
       "        text-align: right;\n",
       "    }\n",
       "</style>\n",
       "<table border=\"1\" class=\"dataframe\">\n",
       "  <thead>\n",
       "    <tr style=\"text-align: right;\">\n",
       "      <th></th>\n",
       "      <th>scientific_name</th>\n",
       "      <th>park_name</th>\n",
       "      <th>observations</th>\n",
       "      <th>category</th>\n",
       "      <th>common_names</th>\n",
       "      <th>conservation_status</th>\n",
       "      <th>is_safe</th>\n",
       "      <th>not_safe</th>\n",
       "      <th>is_salamander</th>\n",
       "    </tr>\n",
       "  </thead>\n",
       "  <tbody>\n",
       "    <tr>\n",
       "      <th>0</th>\n",
       "      <td>Eurycea longicauda longicauda</td>\n",
       "      <td>Yosemite National Park</td>\n",
       "      <td>147</td>\n",
       "      <td>Amphibian</td>\n",
       "      <td>Longtail Salamander</td>\n",
       "      <td>NaN</td>\n",
       "      <td>True</td>\n",
       "      <td>False</td>\n",
       "      <td>True</td>\n",
       "    </tr>\n",
       "    <tr>\n",
       "      <th>1</th>\n",
       "      <td>Desmognathus wrighti</td>\n",
       "      <td>Yellowstone National Park</td>\n",
       "      <td>201</td>\n",
       "      <td>Amphibian</td>\n",
       "      <td>Pigmy Salamander</td>\n",
       "      <td>Species of Concern</td>\n",
       "      <td>True</td>\n",
       "      <td>True</td>\n",
       "      <td>True</td>\n",
       "    </tr>\n",
       "    <tr>\n",
       "      <th>2</th>\n",
       "      <td>Plethodon aureolus</td>\n",
       "      <td>Bryce National Park</td>\n",
       "      <td>90</td>\n",
       "      <td>Amphibian</td>\n",
       "      <td>Tellico Salamander</td>\n",
       "      <td>NaN</td>\n",
       "      <td>True</td>\n",
       "      <td>False</td>\n",
       "      <td>True</td>\n",
       "    </tr>\n",
       "    <tr>\n",
       "      <th>3</th>\n",
       "      <td>Plethodon metcalfi</td>\n",
       "      <td>Bryce National Park</td>\n",
       "      <td>131</td>\n",
       "      <td>Amphibian</td>\n",
       "      <td>Southern Gray-Cheeked Salamander</td>\n",
       "      <td>NaN</td>\n",
       "      <td>True</td>\n",
       "      <td>False</td>\n",
       "      <td>True</td>\n",
       "    </tr>\n",
       "    <tr>\n",
       "      <th>4</th>\n",
       "      <td>Ambystoma mavortium melanostictum</td>\n",
       "      <td>Bryce National Park</td>\n",
       "      <td>84</td>\n",
       "      <td>Amphibian</td>\n",
       "      <td>Blotched Tiger Salamander</td>\n",
       "      <td>NaN</td>\n",
       "      <td>True</td>\n",
       "      <td>False</td>\n",
       "      <td>True</td>\n",
       "    </tr>\n",
       "    <tr>\n",
       "      <th>...</th>\n",
       "      <td>...</td>\n",
       "      <td>...</td>\n",
       "      <td>...</td>\n",
       "      <td>...</td>\n",
       "      <td>...</td>\n",
       "      <td>...</td>\n",
       "      <td>...</td>\n",
       "      <td>...</td>\n",
       "      <td>...</td>\n",
       "    </tr>\n",
       "    <tr>\n",
       "      <th>159</th>\n",
       "      <td>Ambystoma opacum</td>\n",
       "      <td>Bryce National Park</td>\n",
       "      <td>115</td>\n",
       "      <td>Amphibian</td>\n",
       "      <td>Marbled Salamander</td>\n",
       "      <td>NaN</td>\n",
       "      <td>True</td>\n",
       "      <td>False</td>\n",
       "      <td>True</td>\n",
       "    </tr>\n",
       "    <tr>\n",
       "      <th>160</th>\n",
       "      <td>Plethodon oconaluftee</td>\n",
       "      <td>Great Smoky Mountains National Park</td>\n",
       "      <td>68</td>\n",
       "      <td>Amphibian</td>\n",
       "      <td>Southern Appalachian Salamander</td>\n",
       "      <td>NaN</td>\n",
       "      <td>True</td>\n",
       "      <td>False</td>\n",
       "      <td>True</td>\n",
       "    </tr>\n",
       "    <tr>\n",
       "      <th>161</th>\n",
       "      <td>Pseudotriton ruber ruber</td>\n",
       "      <td>Bryce National Park</td>\n",
       "      <td>77</td>\n",
       "      <td>Amphibian</td>\n",
       "      <td>Northern Red Salamander</td>\n",
       "      <td>NaN</td>\n",
       "      <td>True</td>\n",
       "      <td>False</td>\n",
       "      <td>True</td>\n",
       "    </tr>\n",
       "    <tr>\n",
       "      <th>162</th>\n",
       "      <td>Pseudotriton ruber schencki</td>\n",
       "      <td>Great Smoky Mountains National Park</td>\n",
       "      <td>89</td>\n",
       "      <td>Amphibian</td>\n",
       "      <td>Blackchin Red Salamander</td>\n",
       "      <td>NaN</td>\n",
       "      <td>True</td>\n",
       "      <td>False</td>\n",
       "      <td>True</td>\n",
       "    </tr>\n",
       "    <tr>\n",
       "      <th>163</th>\n",
       "      <td>Plethodon serratus</td>\n",
       "      <td>Great Smoky Mountains National Park</td>\n",
       "      <td>89</td>\n",
       "      <td>Amphibian</td>\n",
       "      <td>Southern Red-Backed Salamander</td>\n",
       "      <td>NaN</td>\n",
       "      <td>True</td>\n",
       "      <td>False</td>\n",
       "      <td>True</td>\n",
       "    </tr>\n",
       "  </tbody>\n",
       "</table>\n",
       "<p>164 rows × 9 columns</p>\n",
       "</div>"
      ],
      "text/plain": [
       "                       scientific_name                            park_name  \\\n",
       "0        Eurycea longicauda longicauda               Yosemite National Park   \n",
       "1                 Desmognathus wrighti            Yellowstone National Park   \n",
       "2                   Plethodon aureolus                  Bryce National Park   \n",
       "3                   Plethodon metcalfi                  Bryce National Park   \n",
       "4    Ambystoma mavortium melanostictum                  Bryce National Park   \n",
       "..                                 ...                                  ...   \n",
       "159                   Ambystoma opacum                  Bryce National Park   \n",
       "160              Plethodon oconaluftee  Great Smoky Mountains National Park   \n",
       "161           Pseudotriton ruber ruber                  Bryce National Park   \n",
       "162        Pseudotriton ruber schencki  Great Smoky Mountains National Park   \n",
       "163                 Plethodon serratus  Great Smoky Mountains National Park   \n",
       "\n",
       "     observations   category                      common_names  \\\n",
       "0             147  Amphibian               Longtail Salamander   \n",
       "1             201  Amphibian                  Pigmy Salamander   \n",
       "2              90  Amphibian                Tellico Salamander   \n",
       "3             131  Amphibian  Southern Gray-Cheeked Salamander   \n",
       "4              84  Amphibian         Blotched Tiger Salamander   \n",
       "..            ...        ...                               ...   \n",
       "159           115  Amphibian                Marbled Salamander   \n",
       "160            68  Amphibian   Southern Appalachian Salamander   \n",
       "161            77  Amphibian           Northern Red Salamander   \n",
       "162            89  Amphibian          Blackchin Red Salamander   \n",
       "163            89  Amphibian    Southern Red-Backed Salamander   \n",
       "\n",
       "    conservation_status  is_safe  not_safe  is_salamander  \n",
       "0                   NaN     True     False           True  \n",
       "1    Species of Concern     True      True           True  \n",
       "2                   NaN     True     False           True  \n",
       "3                   NaN     True     False           True  \n",
       "4                   NaN     True     False           True  \n",
       "..                  ...      ...       ...            ...  \n",
       "159                 NaN     True     False           True  \n",
       "160                 NaN     True     False           True  \n",
       "161                 NaN     True     False           True  \n",
       "162                 NaN     True     False           True  \n",
       "163                 NaN     True     False           True  \n",
       "\n",
       "[164 rows x 9 columns]"
      ]
     },
     "execution_count": 145,
     "metadata": {},
     "output_type": "execute_result"
    }
   ],
   "source": [
    "salamanders_observed = observations.merge(species[species.is_salamander])\n",
    "salamanders_observed"
   ]
  },
  {
   "cell_type": "code",
   "execution_count": 146,
   "metadata": {},
   "outputs": [
    {
     "data": {
      "text/html": [
       "<div>\n",
       "<style scoped>\n",
       "    .dataframe tbody tr th:only-of-type {\n",
       "        vertical-align: middle;\n",
       "    }\n",
       "\n",
       "    .dataframe tbody tr th {\n",
       "        vertical-align: top;\n",
       "    }\n",
       "\n",
       "    .dataframe thead th {\n",
       "        text-align: right;\n",
       "    }\n",
       "</style>\n",
       "<table border=\"1\" class=\"dataframe\">\n",
       "  <thead>\n",
       "    <tr style=\"text-align: right;\">\n",
       "      <th></th>\n",
       "      <th>park_name</th>\n",
       "      <th>observations</th>\n",
       "    </tr>\n",
       "  </thead>\n",
       "  <tbody>\n",
       "    <tr>\n",
       "      <th>0</th>\n",
       "      <td>Bryce National Park</td>\n",
       "      <td>3946</td>\n",
       "    </tr>\n",
       "    <tr>\n",
       "      <th>1</th>\n",
       "      <td>Great Smoky Mountains National Park</td>\n",
       "      <td>3023</td>\n",
       "    </tr>\n",
       "    <tr>\n",
       "      <th>2</th>\n",
       "      <td>Yellowstone National Park</td>\n",
       "      <td>10234</td>\n",
       "    </tr>\n",
       "    <tr>\n",
       "      <th>3</th>\n",
       "      <td>Yosemite National Park</td>\n",
       "      <td>6174</td>\n",
       "    </tr>\n",
       "  </tbody>\n",
       "</table>\n",
       "</div>"
      ],
      "text/plain": [
       "                             park_name  observations\n",
       "0                  Bryce National Park          3946\n",
       "1  Great Smoky Mountains National Park          3023\n",
       "2            Yellowstone National Park         10234\n",
       "3               Yosemite National Park          6174"
      ]
     },
     "execution_count": 146,
     "metadata": {},
     "output_type": "execute_result"
    }
   ],
   "source": [
    "salamanders_observed.groupby('park_name').observations.sum().reset_index()"
   ]
  },
  {
   "cell_type": "markdown",
   "metadata": {},
   "source": [
    "Parks broken down by safe salamanders and not safe salamanders. "
   ]
  },
  {
   "cell_type": "code",
   "execution_count": 148,
   "metadata": {},
   "outputs": [
    {
     "data": {
      "text/html": [
       "<div>\n",
       "<style scoped>\n",
       "    .dataframe tbody tr th:only-of-type {\n",
       "        vertical-align: middle;\n",
       "    }\n",
       "\n",
       "    .dataframe tbody tr th {\n",
       "        vertical-align: top;\n",
       "    }\n",
       "\n",
       "    .dataframe thead th {\n",
       "        text-align: right;\n",
       "    }\n",
       "</style>\n",
       "<table border=\"1\" class=\"dataframe\">\n",
       "  <thead>\n",
       "    <tr style=\"text-align: right;\">\n",
       "      <th></th>\n",
       "      <th>park_name</th>\n",
       "      <th>not_safe</th>\n",
       "      <th>observations</th>\n",
       "    </tr>\n",
       "  </thead>\n",
       "  <tbody>\n",
       "    <tr>\n",
       "      <th>0</th>\n",
       "      <td>Bryce National Park</td>\n",
       "      <td>False</td>\n",
       "      <td>3723</td>\n",
       "    </tr>\n",
       "    <tr>\n",
       "      <th>1</th>\n",
       "      <td>Bryce National Park</td>\n",
       "      <td>True</td>\n",
       "      <td>223</td>\n",
       "    </tr>\n",
       "    <tr>\n",
       "      <th>2</th>\n",
       "      <td>Great Smoky Mountains National Park</td>\n",
       "      <td>False</td>\n",
       "      <td>2863</td>\n",
       "    </tr>\n",
       "    <tr>\n",
       "      <th>3</th>\n",
       "      <td>Great Smoky Mountains National Park</td>\n",
       "      <td>True</td>\n",
       "      <td>160</td>\n",
       "    </tr>\n",
       "    <tr>\n",
       "      <th>4</th>\n",
       "      <td>Yellowstone National Park</td>\n",
       "      <td>False</td>\n",
       "      <td>9844</td>\n",
       "    </tr>\n",
       "    <tr>\n",
       "      <th>5</th>\n",
       "      <td>Yellowstone National Park</td>\n",
       "      <td>True</td>\n",
       "      <td>390</td>\n",
       "    </tr>\n",
       "    <tr>\n",
       "      <th>6</th>\n",
       "      <td>Yosemite National Park</td>\n",
       "      <td>False</td>\n",
       "      <td>5885</td>\n",
       "    </tr>\n",
       "    <tr>\n",
       "      <th>7</th>\n",
       "      <td>Yosemite National Park</td>\n",
       "      <td>True</td>\n",
       "      <td>289</td>\n",
       "    </tr>\n",
       "  </tbody>\n",
       "</table>\n",
       "</div>"
      ],
      "text/plain": [
       "                             park_name  not_safe  observations\n",
       "0                  Bryce National Park     False          3723\n",
       "1                  Bryce National Park      True           223\n",
       "2  Great Smoky Mountains National Park     False          2863\n",
       "3  Great Smoky Mountains National Park      True           160\n",
       "4            Yellowstone National Park     False          9844\n",
       "5            Yellowstone National Park      True           390\n",
       "6               Yosemite National Park     False          5885\n",
       "7               Yosemite National Park      True           289"
      ]
     },
     "execution_count": 148,
     "metadata": {},
     "output_type": "execute_result"
    }
   ],
   "source": [
    "salamander_by_park = salamanders_observed.groupby(['park_name', 'not_safe']).observations.sum().reset_index()\n",
    "salamander_by_park"
   ]
  },
  {
   "cell_type": "code",
   "execution_count": 152,
   "metadata": {},
   "outputs": [
    {
     "data": {
      "image/png": "[encoded data removed]",
      "text/plain": [
       "<Figure size 1200x500 with 1 Axes>"
      ]
     },
     "metadata": {},
     "output_type": "display_data"
    }
   ],
   "source": [
    "#Graph for above chart\n",
    "plt.figure(figsize=(12, 5))\n",
    "sns.barplot(x=salamander_by_park.park_name, y= salamander_by_park.observations, hue=salamander_by_park.not_safe)\n",
    "plt.xlabel('National Parks')\n",
    "plt.ylabel('Number of Observations')\n",
    "plt.title('Observations of Salamanders per Week')\n",
    "plt.show()"
   ]
  },
  {
   "cell_type": "markdown",
   "metadata": {},
   "source": [
    "From this view you can easily see Yellowstone having far more safe salamanders under their care than the rest. "
   ]
  },
  {
   "cell_type": "markdown",
   "metadata": {},
   "source": [
    "## Conclusion\n",
    "\n",
    "\n",
    "This project was able to answer the answers from the introduction comprising various species over 4 national parks:\n",
    "\n",
    "Here are the questions this project answered: \n",
    "\n",
    "    + Which animal type or species is most in danger? Mammals specifically bat types. \n",
    "    + Are there differences between species and their conservation status? As far as terms yes, but in statistics the contingency stats supported no major difference\n",
    "    + What is the distrubition of conservation status for each species? Plenty of Amphbians need help. \n",
    "    + Which animals are thriving and what is their distrubition amongst the parks? Birds have by the best recovery efforts while sea life may be seeing massive declines. More information over time (more than 7 days) would futher support and debunk this assumption. "
   ]
  },
  {
   "cell_type": "markdown",
   "metadata": {},
   "source": [
    "## Further Research\n",
    "\n",
    "\n",
    "This dataset only included observations from the last 7 days which prohibits analyze changes over time. It would be curious to see how the conservation status fro various species changes over time. Another piece that is missing is the Area of each park it can be assumed that Yellowstone National Park might be larger than the other parks which would mean that it would have more observations and greater biodiversity. Lastly, if precise locations were recorded, the spatial distribution of the species could also be observed and test if these observations are spatially clustered. "
   ]
  },
  {
   "cell_type": "markdown",
   "metadata": {},
   "source": []
  }
 ],
 "metadata": {
  "kernelspec": {
   "display_name": "Python 3",
   "language": "python",
   "name": "python3"
  },
  "language_info": {
   "codemirror_mode": {
    "name": "ipython",
    "version": 3
   },
   "file_extension": ".py",
   "mimetype": "text/x-python",
   "name": "python",
   "nbconvert_exporter": "python",
   "pygments_lexer": "ipython3",
   "version": "3.12.7"
  }
 },
 "nbformat": 4,
 "nbformat_minor": 4
}
