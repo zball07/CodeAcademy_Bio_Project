{
 "cells": [
  {
   "cell_type": "code",
   "execution_count": 10,
   "metadata": {},
   "outputs": [
    {
     "name": "stdout",
     "output_type": "stream",
     "text": [
      "Index(['scientific_name', 'park_name', 'observations', 'category',\n",
      "       'common_names', 'conservation_status'],\n",
      "      dtype='object')\n"
     ]
    }
   ],
   "source": [
    "import pandas as pd\n",
    "import matplotlib.pyplot as plt\n",
    "import seaborn as sns\n",
    "import numpy as np\n",
    "import glob\n",
    "import os\n",
    "\n",
    "folder_path = r\"C:\\Users\\Yolo's Finest\\OneDrive\\Desktop\\sqlite-tools-win-x64-3470000\"\n",
    "file_pattern = os.path.join(folder_path, '*.csv')\n",
    "files = glob.glob(file_pattern)\n",
    "specific_files = [\"observations.csv\", \"species_info.csv\"]\n",
    "df_list = [csv for csv in files if os.path.basename(csv) in specific_files]   \n",
    "\n",
    "df = pd.concat((pd.read_csv(f) for f in df_list), ignore_index=True)\n",
    "\n",
    "print(df.columns)\n"
   ]
  },
  {
   "cell_type": "markdown",
   "metadata": {},
   "source": [
    "**Import Tools**\n",
    "1. First step was opening the appropriate files for the project. I used os library to assist and using the correct file path. \n",
    "2. Using glob to combine the two csv files into one dataframe we can manipulate later. \n",
    "3. Filtered it to search for only the \"csv\" files needed. \n",
    "4. Pandas for the concat feature and boom. We have a combined dataframe. (Started with the columns)."
   ]
  },
  {
   "cell_type": "code",
   "execution_count": 12,
   "metadata": {},
   "outputs": [
    {
     "name": "stdout",
     "output_type": "stream",
     "text": [
      "            scientific_name                            park_name  \\\n",
      "0        Vicia benghalensis  Great Smoky Mountains National Park   \n",
      "1            Neovison vison  Great Smoky Mountains National Park   \n",
      "2         Prunus subcordata               Yosemite National Park   \n",
      "3      Abutilon theophrasti                  Bryce National Park   \n",
      "4  Githopsis specularioides  Great Smoky Mountains National Park   \n",
      "\n",
      "   observations category common_names conservation_status  \n",
      "0          68.0      NaN          NaN                 NaN  \n",
      "1          77.0      NaN          NaN                 NaN  \n",
      "2         138.0      NaN          NaN                 NaN  \n",
      "3          84.0      NaN          NaN                 NaN  \n",
      "4          85.0      NaN          NaN                 NaN  \n",
      "scientific_name         object\n",
      "park_name               object\n",
      "observations           float64\n",
      "category                object\n",
      "common_names            object\n",
      "conservation_status     object\n",
      "dtype: object\n"
     ]
    }
   ],
   "source": [
    "print(df.head())\n",
    "print(df.dtypes)"
   ]
  },
  {
   "cell_type": "markdown",
   "metadata": {},
   "source": []
  }
 ],
 "metadata": {
  "kernelspec": {
   "display_name": "Python 3",
   "language": "python",
   "name": "python3"
  },
  "language_info": {
   "codemirror_mode": {
    "name": "ipython",
    "version": 3
   },
   "file_extension": ".py",
   "mimetype": "text/x-python",
   "name": "python",
   "nbconvert_exporter": "python",
   "pygments_lexer": "ipython3",
   "version": "3.12.7"
  }
 },
 "nbformat": 4,
 "nbformat_minor": 4
}
